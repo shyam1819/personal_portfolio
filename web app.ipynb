{
 "cells": [
  {
   "cell_type": "code",
   "execution_count": null,
   "id": "0ef8a941",
   "metadata": {},
   "outputs": [],
   "source": [
    "import streamlit as st\n",
    "import json\n",
    "from streamlit_lottie import st_lottie\n",
    "import time\n",
    "\n",
    "def load_json(path):\n",
    "    with open(path,\"r\") as f:\n",
    "        return json.load(f)\n",
    "    \n",
    "def dummy():\n",
    "    initialize = [0]\n",
    "    return initialize\n",
    "\n",
    "if 'initialize' not in st.session_state:\n",
    "    \n",
    "    lottie_animation=load_json(r\"C:\\Users\\DELL\\Downloads\\opening.json\")\n",
    "    animation_container=st.empty()\n",
    "    with animation_container:\n",
    "        st_lottie(\n",
    "            lottie_animation,\n",
    "            speed=1,\n",
    "            reverse=False,\n",
    "            loop=False,\n",
    "            quality=\"high\",\n",
    "            height=None,\n",
    "            width=None,\n",
    "            key=None\n",
    "        )\n",
    "    st.session_state.initialize=dummy()\n",
    "\n",
    "animation_container.empty()\n",
    "st.title(\"Welcome\")"
   ]
  },
  {
   "cell_type": "code",
   "execution_count": null,
   "id": "08b239bf",
   "metadata": {},
   "outputs": [],
   "source": [
    "from streamlit_wizard import components\n",
    "\n",
    "components.Page"
   ]
  },
  {
   "cell_type": "code",
   "execution_count": null,
   "id": "df51f85a",
   "metadata": {},
   "outputs": [],
   "source": [
    "!pip install firebase_admin\n"
   ]
  },
  {
   "cell_type": "code",
   "execution_count": 20,
   "id": "4518977a",
   "metadata": {},
   "outputs": [
    {
     "name": "stdout",
     "output_type": "stream",
     "text": [
      "{'Author Name': 'James clear', 'Genre': 'Self - Help book', 'Review': 'NA', 'Book Name': 'Atomic Habits', 'Image': 'assets/images/atomic_habbits.jpeg'}\n"
     ]
    }
   ],
   "source": [
    "#from google.cloud import firestore\n",
    "import firebase_admin\n",
    "from firebase_admin import credentials\n",
    "from firebase_admin import firestore\n",
    "#import firestore\n",
    "\n",
    "cred = credentials.Certificate(r\"C:\\Users\\DELL\\Downloads\\books-ed9d1-1985824b060b.json\")\n",
    "firebase_admin.initialize_app(cred,name='test4')\n",
    "db = firestore.client()\n",
    "collection = db.collection('Names')\n",
    "res = collection.document('v28LeT64lxIMyBv038Ag').get().to_dict()\n",
    "print(res)"
   ]
  },
  {
   "cell_type": "code",
   "execution_count": null,
   "id": "a1f30b35",
   "metadata": {},
   "outputs": [],
   "source": [
    "# https://www.analyticsvidhya.com/blog/2022/07/introduction-to-google-firebase-firestore-using-python/\n",
    "\n",
    "# https://stackoverflow.com/questions/53304517/how-to-retrieve-image-from-firebase-storage-using-python - For images"
   ]
  },
  {
   "cell_type": "code",
   "execution_count": null,
   "id": "70762a0b",
   "metadata": {},
   "outputs": [],
   "source": [
    "pip install streamlit-on-hover-tabs"
   ]
  },
  {
   "cell_type": "code",
   "execution_count": 22,
   "id": "1faa5d98",
   "metadata": {},
   "outputs": [
    {
     "data": {
      "text/plain": [
       "<firebase_admin.App at 0x18b95200a00>"
      ]
     },
     "execution_count": 22,
     "metadata": {},
     "output_type": "execute_result"
    }
   ],
   "source": [
    "firebase_admin.get_app()"
   ]
  },
  {
   "cell_type": "code",
   "execution_count": 10,
   "id": "cf83e9a9",
   "metadata": {},
   "outputs": [
    {
     "name": "stdout",
     "output_type": "stream",
     "text": [
      "Collecting firestore\n",
      "  Downloading firestore-0.0.8-py3-none-any.whl (40 kB)\n",
      "     ---------------------------------------- 40.0/40.0 kB 2.0 MB/s eta 0:00:00\n",
      "Collecting iso8601\n",
      "  Downloading iso8601-1.1.0-py3-none-any.whl (9.9 kB)\n",
      "Requirement already satisfied: firebase-admin in c:\\users\\dell\\anaconda3\\lib\\site-packages (from firestore) (6.1.0)\n",
      "Requirement already satisfied: pyjwt[crypto]>=2.5.0 in c:\\users\\dell\\anaconda3\\lib\\site-packages (from firebase-admin->firestore) (2.6.0)\n",
      "Requirement already satisfied: google-cloud-firestore>=2.9.1 in c:\\users\\dell\\anaconda3\\lib\\site-packages (from firebase-admin->firestore) (2.11.1)\n",
      "Requirement already satisfied: cachecontrol>=0.12.6 in c:\\users\\dell\\anaconda3\\lib\\site-packages (from firebase-admin->firestore) (0.12.11)\n",
      "Requirement already satisfied: google-api-python-client>=1.7.8 in c:\\users\\dell\\anaconda3\\lib\\site-packages (from firebase-admin->firestore) (2.86.0)\n",
      "Requirement already satisfied: google-cloud-storage>=1.37.1 in c:\\users\\dell\\anaconda3\\lib\\site-packages (from firebase-admin->firestore) (2.8.0)\n",
      "Requirement already satisfied: google-api-core[grpc]<3.0.0dev,>=1.22.1 in c:\\users\\dell\\anaconda3\\lib\\site-packages (from firebase-admin->firestore) (2.11.0)\n",
      "Requirement already satisfied: requests in c:\\users\\dell\\anaconda3\\lib\\site-packages (from cachecontrol>=0.12.6->firebase-admin->firestore) (2.28.1)\n",
      "Requirement already satisfied: msgpack>=0.5.2 in c:\\users\\dell\\anaconda3\\lib\\site-packages (from cachecontrol>=0.12.6->firebase-admin->firestore) (1.0.3)\n",
      "Collecting protobuf!=3.20.0,!=3.20.1,!=4.21.0,!=4.21.1,!=4.21.2,!=4.21.3,!=4.21.4,!=4.21.5,<5.0.0dev,>=3.19.5\n",
      "  Downloading protobuf-4.22.4-cp39-cp39-win_amd64.whl (420 kB)\n",
      "     ------------------------------------- 420.6/420.6 kB 13.2 MB/s eta 0:00:00\n",
      "Requirement already satisfied: google-auth<3.0dev,>=2.14.1 in c:\\users\\dell\\anaconda3\\lib\\site-packages (from google-api-core[grpc]<3.0.0dev,>=1.22.1->firebase-admin->firestore) (2.16.2)\n",
      "Requirement already satisfied: googleapis-common-protos<2.0dev,>=1.56.2 in c:\\users\\dell\\anaconda3\\lib\\site-packages (from google-api-core[grpc]<3.0.0dev,>=1.22.1->firebase-admin->firestore) (1.58.0)\n",
      "Requirement already satisfied: grpcio-status<2.0dev,>=1.33.2 in c:\\users\\dell\\anaconda3\\lib\\site-packages (from google-api-core[grpc]<3.0.0dev,>=1.22.1->firebase-admin->firestore) (1.54.0)\n",
      "Requirement already satisfied: grpcio<2.0dev,>=1.33.2 in c:\\users\\dell\\anaconda3\\lib\\site-packages (from google-api-core[grpc]<3.0.0dev,>=1.22.1->firebase-admin->firestore) (1.54.0)\n",
      "Requirement already satisfied: uritemplate<5,>=3.0.1 in c:\\users\\dell\\anaconda3\\lib\\site-packages (from google-api-python-client>=1.7.8->firebase-admin->firestore) (4.1.1)\n",
      "Requirement already satisfied: httplib2<1dev,>=0.15.0 in c:\\users\\dell\\anaconda3\\lib\\site-packages (from google-api-python-client>=1.7.8->firebase-admin->firestore) (0.22.0)\n",
      "Requirement already satisfied: google-auth-httplib2>=0.1.0 in c:\\users\\dell\\anaconda3\\lib\\site-packages (from google-api-python-client>=1.7.8->firebase-admin->firestore) (0.1.0)\n",
      "Requirement already satisfied: proto-plus<2.0.0dev,>=1.22.0 in c:\\users\\dell\\anaconda3\\lib\\site-packages (from google-cloud-firestore>=2.9.1->firebase-admin->firestore) (1.22.2)\n",
      "Requirement already satisfied: google-cloud-core<3.0.0dev,>=1.4.1 in c:\\users\\dell\\anaconda3\\lib\\site-packages (from google-cloud-firestore>=2.9.1->firebase-admin->firestore) (2.3.2)\n",
      "Requirement already satisfied: google-resumable-media>=2.3.2 in c:\\users\\dell\\anaconda3\\lib\\site-packages (from google-cloud-storage>=1.37.1->firebase-admin->firestore) (2.5.0)\n",
      "Requirement already satisfied: cryptography>=3.4.0 in c:\\users\\dell\\anaconda3\\lib\\site-packages (from pyjwt[crypto]>=2.5.0->firebase-admin->firestore) (37.0.1)\n",
      "Requirement already satisfied: cffi>=1.12 in c:\\users\\dell\\anaconda3\\lib\\site-packages (from cryptography>=3.4.0->pyjwt[crypto]>=2.5.0->firebase-admin->firestore) (1.15.1)\n",
      "Requirement already satisfied: pyasn1-modules>=0.2.1 in c:\\users\\dell\\anaconda3\\lib\\site-packages (from google-auth<3.0dev,>=2.14.1->google-api-core[grpc]<3.0.0dev,>=1.22.1->firebase-admin->firestore) (0.2.8)\n",
      "Requirement already satisfied: rsa<5,>=3.1.4 in c:\\users\\dell\\anaconda3\\lib\\site-packages (from google-auth<3.0dev,>=2.14.1->google-api-core[grpc]<3.0.0dev,>=1.22.1->firebase-admin->firestore) (4.9)\n",
      "Requirement already satisfied: six>=1.9.0 in c:\\users\\dell\\anaconda3\\lib\\site-packages (from google-auth<3.0dev,>=2.14.1->google-api-core[grpc]<3.0.0dev,>=1.22.1->firebase-admin->firestore) (1.16.0)\n",
      "Requirement already satisfied: cachetools<6.0,>=2.0.0 in c:\\users\\dell\\anaconda3\\lib\\site-packages (from google-auth<3.0dev,>=2.14.1->google-api-core[grpc]<3.0.0dev,>=1.22.1->firebase-admin->firestore) (5.3.0)\n",
      "Requirement already satisfied: google-crc32c<2.0dev,>=1.0 in c:\\users\\dell\\anaconda3\\lib\\site-packages (from google-resumable-media>=2.3.2->google-cloud-storage>=1.37.1->firebase-admin->firestore) (1.5.0)\n",
      "Requirement already satisfied: pyparsing!=3.0.0,!=3.0.1,!=3.0.2,!=3.0.3,<4,>=2.4.2 in c:\\users\\dell\\anaconda3\\lib\\site-packages (from httplib2<1dev,>=0.15.0->google-api-python-client>=1.7.8->firebase-admin->firestore) (3.0.9)\n",
      "Requirement already satisfied: certifi>=2017.4.17 in c:\\users\\dell\\anaconda3\\lib\\site-packages (from requests->cachecontrol>=0.12.6->firebase-admin->firestore) (2022.9.14)\n",
      "Requirement already satisfied: idna<4,>=2.5 in c:\\users\\dell\\anaconda3\\lib\\site-packages (from requests->cachecontrol>=0.12.6->firebase-admin->firestore) (3.3)\n",
      "Requirement already satisfied: charset-normalizer<3,>=2 in c:\\users\\dell\\anaconda3\\lib\\site-packages (from requests->cachecontrol>=0.12.6->firebase-admin->firestore) (2.0.4)\n",
      "Requirement already satisfied: urllib3<1.27,>=1.21.1 in c:\\users\\dell\\anaconda3\\lib\\site-packages (from requests->cachecontrol>=0.12.6->firebase-admin->firestore) (1.26.11)\n",
      "Requirement already satisfied: pycparser in c:\\users\\dell\\anaconda3\\lib\\site-packages (from cffi>=1.12->cryptography>=3.4.0->pyjwt[crypto]>=2.5.0->firebase-admin->firestore) (2.21)\n",
      "Requirement already satisfied: pyasn1<0.5.0,>=0.4.6 in c:\\users\\dell\\anaconda3\\lib\\site-packages (from pyasn1-modules>=0.2.1->google-auth<3.0dev,>=2.14.1->google-api-core[grpc]<3.0.0dev,>=1.22.1->firebase-admin->firestore) (0.4.8)\n",
      "Installing collected packages: protobuf, iso8601, firestore\n",
      "  Attempting uninstall: protobuf\n",
      "    Found existing installation: protobuf 3.20.0\n",
      "    Uninstalling protobuf-3.20.0:\n",
      "      Successfully uninstalled protobuf-3.20.0\n",
      "Note: you may need to restart the kernel to use updated packages.\n"
     ]
    },
    {
     "name": "stderr",
     "output_type": "stream",
     "text": [
      "ERROR: Could not install packages due to an OSError: [WinError 5] Access is denied: 'C:\\\\Users\\\\DELL\\\\anaconda3\\\\Lib\\\\site-packages\\\\google\\\\~rotobuf\\\\internal\\\\_api_implementation.cp39-win_amd64.pyd'\n",
      "Consider using the `--user` option or check the permissions.\n",
      "\n"
     ]
    }
   ],
   "source": [
    "pip install firestore"
   ]
  },
  {
   "cell_type": "code",
   "execution_count": null,
   "id": "e4024b46",
   "metadata": {},
   "outputs": [],
   "source": []
  }
 ],
 "metadata": {
  "kernelspec": {
   "display_name": "Python 3 (ipykernel)",
   "language": "python",
   "name": "python3"
  },
  "language_info": {
   "codemirror_mode": {
    "name": "ipython",
    "version": 3
   },
   "file_extension": ".py",
   "mimetype": "text/x-python",
   "name": "python",
   "nbconvert_exporter": "python",
   "pygments_lexer": "ipython3",
   "version": "3.9.13"
  }
 },
 "nbformat": 4,
 "nbformat_minor": 5
}
